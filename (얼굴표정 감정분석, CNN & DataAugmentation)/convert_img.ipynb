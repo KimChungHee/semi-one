{
 "cells": [
  {
   "cell_type": "code",
   "execution_count": 19,
   "metadata": {},
   "outputs": [
    {
     "name": "stdout",
     "output_type": "stream",
     "text": [
      "(48, 48)\n"
     ]
    },
    {
     "data": {
      "image/png": "[encoded data removed]",
      "text/plain": [
       "<PIL.Image.Image image mode=L size=48x48 at 0x1D5CABA14E0>"
      ]
     },
     "metadata": {},
     "output_type": "display_data"
    },
    {
     "name": "stdout",
     "output_type": "stream",
     "text": [
      "(48, 48)\n"
     ]
    },
    {
     "data": {
      "image/png": "[encoded data removed]",
      "text/plain": [
       "<PIL.Image.Image image mode=L size=48x48 at 0x1D5CABA1668>"
      ]
     },
     "metadata": {},
     "output_type": "display_data"
    },
    {
     "name": "stdout",
     "output_type": "stream",
     "text": [
      "[array([[216., 227., 239., ..., 255., 255., 255.],\n",
      "       [179., 210., 238., ..., 255., 255., 255.],\n",
      "       [162., 200., 238., ..., 255., 255., 255.],\n",
      "       ...,\n",
      "       [240., 232., 232., ..., 164., 165., 165.],\n",
      "       [230., 222., 210., ..., 193., 174., 174.],\n",
      "       [217., 212., 206., ..., 245., 218., 239.]], dtype=float32), array([[216., 227., 239., ..., 255., 255., 255.],\n",
      "       [179., 210., 238., ..., 255., 255., 255.],\n",
      "       [162., 200., 238., ..., 255., 255., 255.],\n",
      "       ...,\n",
      "       [240., 232., 232., ..., 164., 165., 165.],\n",
      "       [230., 222., 210., ..., 193., 174., 174.],\n",
      "       [217., 212., 206., ..., 245., 218., 239.]], dtype=float32), array([[216., 227., 239., ..., 255., 255., 255.],\n",
      "       [179., 210., 238., ..., 255., 255., 255.],\n",
      "       [162., 200., 238., ..., 255., 255., 255.],\n",
      "       ...,\n",
      "       [240., 232., 232., ..., 164., 165., 165.],\n",
      "       [230., 222., 210., ..., 193., 174., 174.],\n",
      "       [217., 212., 206., ..., 245., 218., 239.]], dtype=float32)]\n"
     ]
    }
   ],
   "source": [
    "from PIL import Image\n",
    "import numpy\n",
    "\n",
    "#namelst = ['겨레','상국','광현','석호','재원','은아']\n",
    "ndarray_lst = []\n",
    "\n",
    "def color_to_grey(filename):\n",
    "    image = Image.open(f'{filename}.png').convert('L')\n",
    "    image.save(f'{filename}_greyscale.png')\n",
    "    image=image.resize((48, 48))\n",
    "    print(image.size)\n",
    "    display(image)\n",
    "    ndarray_lst.append(numpy.array(image, dtype='f'))\n",
    "\n",
    "for name in namelst:\n",
    "    color_to_grey(name)\n",
    "\n",
    "for i in range(len(namelst)-1) :\n",
    "    ndarray_lst.append(ndarray_lst[i].reshape(48, 48))\n",
    "\n",
    "print(ndarray_lst)"
   ]
  },
  {
   "cell_type": "code",
   "execution_count": null,
   "metadata": {},
   "outputs": [],
   "source": []
  }
 ],
 "metadata": {
  "kernelspec": {
   "display_name": "Python 3",
   "language": "python",
   "name": "python3"
  },
  "language_info": {
   "codemirror_mode": {
    "name": "ipython",
    "version": 3
   },
   "file_extension": ".py",
   "mimetype": "text/x-python",
   "name": "python",
   "nbconvert_exporter": "python",
   "pygments_lexer": "ipython3",
   "version": "3.7.3"
  }
 },
 "nbformat": 4,
 "nbformat_minor": 2
}
